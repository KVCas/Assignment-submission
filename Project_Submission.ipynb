{
  "cells": [
    {
      "cell_type": "markdown",
      "id": "ed175a82",
      "metadata": {
        "id": "ed175a82"
      },
      "source": [
        "# Project Submission\n",
        "\n",
        "**Please use this notebook for your submission.**\n",
        "\n",
        "Make sure to fill out all the required fields and to answer all the questions.\n",
        "\n",
        "At the end of this project, you will have answered the following questions:\n",
        "\n",
        "1. What is the average number of goals for the home team?\n",
        "2. What is the average number of goals for the away team?\n",
        "3. What is the country with the highest overall home score?\n",
        "4. What are the top 3 type of tournaments?\n",
        "5. Which country has the highest overall FIFA World Cup goals?\n",
        "\n",
        "\n",
        "**Submission Requirements:**\n",
        "\n",
        "- Make sure that you run all cells with code in your notebook before submitting.\n",
        "- You can add additional cells of code if you want, but make sure to clean up your notebook, and only leave the code required to answer the questions."
      ]
    },
    {
      "cell_type": "markdown",
      "id": "43e336b8",
      "metadata": {
        "id": "43e336b8"
      },
      "source": [
        "## Step 1: Getting Started\n",
        "\n",
        "You will mainly work with a Python library called Pandas. Pandas is a powerful library that allows us to manipulate data. In order to use Pandas, you first have to import it."
      ]
    },
    {
      "cell_type": "code",
      "execution_count": null,
      "id": "3033fd44",
      "metadata": {
        "id": "3033fd44"
      },
      "outputs": [],
      "source": [
        "import pandas as pd"
      ]
    },
    {
      "cell_type": "markdown",
      "id": "f7e3b7f7",
      "metadata": {
        "id": "f7e3b7f7"
      },
      "source": [
        "## Step 2: Loading and Exporing the Data\n",
        "\n",
        "You can use Pandas to explore and manipulate the _results.csv_ file.\n",
        "You first have to load the csv file into a Pandas dataframe, so you can then analyize the data.\n",
        "\n",
        "When using `pd.read_csv()`, make sure you inlcude the correct path to the csv file, depending on where you saved it when you downloaded it."
      ]
    },
    {
      "cell_type": "code",
      "execution_count": null,
      "id": "2c9de780",
      "metadata": {
        "id": "2c9de780"
      },
      "outputs": [],
      "source": [
        "# First: Load the csv file into a Pandas dataframe (df)\n",
        "\n",
        "df = pd.read_csv('results.csv')"
      ]
    },
    {
      "cell_type": "code",
      "execution_count": null,
      "id": "bb2a11f0",
      "metadata": {
        "id": "bb2a11f0",
        "outputId": "c9594b08-9987-4136-ba5e-948103817b34"
      },
      "outputs": [
        {
          "name": "stdout",
          "output_type": "stream",
          "text": [
            "<class 'pandas.core.frame.DataFrame'>\n",
            "RangeIndex: 45315 entries, 0 to 45314\n",
            "Data columns (total 9 columns):\n",
            " #   Column      Non-Null Count  Dtype \n",
            "---  ------      --------------  ----- \n",
            " 0   date        45315 non-null  object\n",
            " 1   home_team   45315 non-null  object\n",
            " 2   away_team   45315 non-null  object\n",
            " 3   home_score  45315 non-null  int64 \n",
            " 4   away_score  45315 non-null  int64 \n",
            " 5   tournament  45315 non-null  object\n",
            " 6   city        45315 non-null  object\n",
            " 7   country     45315 non-null  object\n",
            " 8   neutral     45315 non-null  bool  \n",
            "dtypes: bool(1), int64(2), object(6)\n",
            "memory usage: 2.8+ MB\n"
          ]
        }
      ],
      "source": [
        "# Explore the df\n",
        "\n",
        "df.info()"
      ]
    },
    {
      "cell_type": "markdown",
      "id": "6a2aa881",
      "metadata": {
        "id": "6a2aa881"
      },
      "source": [
        "## Step 3: Data Analysis"
      ]
    },
    {
      "cell_type": "markdown",
      "id": "98b9d5dd",
      "metadata": {
        "id": "98b9d5dd"
      },
      "source": [
        "### Q1: What is the average number of goals for the home team?\n",
        "\n",
        "Hint: You can call the `mean()` method on the _'home_score'_ column."
      ]
    },
    {
      "cell_type": "code",
      "execution_count": 19,
      "id": "c2c5b5ea",
      "metadata": {
        "colab": {
          "base_uri": "https://localhost:8080/"
        },
        "id": "c2c5b5ea",
        "outputId": "9580ef1f-a726-496b-c7ca-0354c7d9d9f0"
      },
      "outputs": [
        {
          "output_type": "stream",
          "name": "stdout",
          "text": [
            "home_score    1.739314\n",
            "dtype: float64\n"
          ]
        }
      ],
      "source": [
        "import pandas as pd\n",
        "url = \"https://raw.githubusercontent.com/KVCas/Bootcamp/main/results.csv\"\n",
        "df = pd.read_csv(url,usecols=['home_score'])\n",
        "print(df.mean())\n"
      ]
    },
    {
      "cell_type": "markdown",
      "id": "ce194e01",
      "metadata": {
        "id": "ce194e01"
      },
      "source": [
        "### Q2: What is the average number of goals for the away team?\n",
        "\n",
        "Hint: You can call the `mean()` method on the _'away_score'_ column."
      ]
    },
    {
      "cell_type": "code",
      "execution_count": 20,
      "id": "4fb43467",
      "metadata": {
        "colab": {
          "base_uri": "https://localhost:8080/"
        },
        "id": "4fb43467",
        "outputId": "e674d4ca-f9a7-418a-f9c3-a235efe53d3d"
      },
      "outputs": [
        {
          "output_type": "stream",
          "name": "stdout",
          "text": [
            "away_score    1.178241\n",
            "dtype: float64\n"
          ]
        }
      ],
      "source": [
        "import pandas as pd\n",
        "url = \"https://raw.githubusercontent.com/KVCas/Bootcamp/main/results.csv\"\n",
        "df = pd.read_csv(url,usecols=['away_score'])\n",
        "print(df.mean())\n"
      ]
    },
    {
      "cell_type": "markdown",
      "id": "c6044d75",
      "metadata": {
        "id": "c6044d75"
      },
      "source": [
        "### Q3: What is the country with the highest overall home score?\n",
        "\n",
        "Hint: You will need to group the data by country, then get the sum of home scores for each country. You can use the `idxmax()` function to find the index(country) with the highest sum."
      ]
    },
    {
      "cell_type": "code",
      "execution_count": 21,
      "id": "e5d93b04",
      "metadata": {
        "colab": {
          "base_uri": "https://localhost:8080/"
        },
        "id": "e5d93b04",
        "outputId": "9b70189f-e606-4214-b613-ef81299dab10"
      },
      "outputs": [
        {
          "output_type": "stream",
          "name": "stdout",
          "text": [
            "home_score    United States\n",
            "dtype: object\n"
          ]
        }
      ],
      "source": [
        "import pandas as pd\n",
        "url = \"https://raw.githubusercontent.com/KVCas/Bootcamp/main/results.csv\"\n",
        "df = pd.read_csv(url,usecols=['country','home_score'])\n",
        "print(df.groupby(['country']).sum().idxmax())\n"
      ]
    },
    {
      "cell_type": "markdown",
      "id": "47e0f275",
      "metadata": {
        "id": "47e0f275"
      },
      "source": [
        "### Q4: What are the top 3 type of tournaments?\n",
        "\n",
        "Hint: You can use the `value_counts()` method to count the occurences of each unique value in the _'tournament'_ column."
      ]
    },
    {
      "cell_type": "code",
      "execution_count": 22,
      "id": "2d65e4e3",
      "metadata": {
        "colab": {
          "base_uri": "https://localhost:8080/"
        },
        "id": "2d65e4e3",
        "outputId": "35518f32-6717-4c42-f5e7-6646f5850f29"
      },
      "outputs": [
        {
          "output_type": "stream",
          "name": "stdout",
          "text": [
            "tournament                  \n",
            "Friendly                        17773\n",
            "FIFA World Cup qualification     8016\n",
            "UEFA Euro qualification          2815\n",
            "dtype: int64\n"
          ]
        }
      ],
      "source": [
        "import pandas as pd\n",
        "url = \"https://raw.githubusercontent.com/KVCas/Bootcamp/main/results.csv\"\n",
        "df = pd.read_csv(url,usecols=['tournament'])\n",
        "print(df.value_counts().nlargest(3))\n",
        "\n"
      ]
    },
    {
      "cell_type": "markdown",
      "id": "0bdc8158",
      "metadata": {
        "id": "0bdc8158"
      },
      "source": [
        "### Q5: Which country has the highest overall FIFA World Cup goals?\n",
        "\n",
        "To answer this question, consider breaking down your solution into 3 steps.\n",
        "\n",
        "**5.1 Create a new dataframe (fifa_df) that only contains rows where the \"tournament\" column == 'FIFA World Cup'.**"
      ]
    },
    {
      "cell_type": "code",
      "execution_count": 11,
      "id": "db30530c",
      "metadata": {
        "colab": {
          "base_uri": "https://localhost:8080/"
        },
        "id": "db30530c",
        "outputId": "37ad83e6-3c89-48aa-8fa2-d928800a7f28"
      },
      "outputs": [
        {
          "output_type": "stream",
          "name": "stdout",
          "text": [
            "             date  home_team      away_team  home_score  away_score  \\\n",
            "1311   1930-07-13    Belgium  United States           0           3   \n",
            "1312   1930-07-13     France         Mexico           4           1   \n",
            "1313   1930-07-14     Brazil     Yugoslavia           1           2   \n",
            "1314   1930-07-14       Peru        Romania           1           3   \n",
            "1315   1930-07-15  Argentina         France           1           0   \n",
            "...           ...        ...            ...         ...         ...   \n",
            "44349  2022-12-10    England         France           1           2   \n",
            "44351  2022-12-13  Argentina        Croatia           3           0   \n",
            "44352  2022-12-14     France        Morocco           2           0   \n",
            "44356  2022-12-17    Croatia        Morocco           2           1   \n",
            "44358  2022-12-18  Argentina         France           3           3   \n",
            "\n",
            "           tournament        city  country  neutral  \n",
            "1311   FIFA World Cup  Montevideo  Uruguay     True  \n",
            "1312   FIFA World Cup  Montevideo  Uruguay     True  \n",
            "1313   FIFA World Cup  Montevideo  Uruguay     True  \n",
            "1314   FIFA World Cup  Montevideo  Uruguay     True  \n",
            "1315   FIFA World Cup  Montevideo  Uruguay     True  \n",
            "...               ...         ...      ...      ...  \n",
            "44349  FIFA World Cup     Al Khor    Qatar     True  \n",
            "44351  FIFA World Cup      Lusail    Qatar     True  \n",
            "44352  FIFA World Cup     Al Khor    Qatar     True  \n",
            "44356  FIFA World Cup   Al Rayyan    Qatar     True  \n",
            "44358  FIFA World Cup      Lusail    Qatar     True  \n",
            "\n",
            "[964 rows x 9 columns]\n"
          ]
        }
      ],
      "source": [
        "import pandas as pd\n",
        "url = \"https://raw.githubusercontent.com/KVCas/Bootcamp/main/results.csv\"\n",
        "df = pd.read_csv(url)\n",
        "fifa_df = df.loc[df['tournament']=='FIFA World Cup']\n"
      ]
    },
    {
      "cell_type": "markdown",
      "id": "c06b0011",
      "metadata": {
        "id": "c06b0011"
      },
      "source": [
        "**5.2 In your new fifa_df, create a new _'total_score'_ column that sums _'home_score'_ + _'away_score'_ for each row.**\n",
        "\n",
        "PS. If you get a \"SettingWithCopyWarning\", please ignore it."
      ]
    },
    {
      "cell_type": "code",
      "execution_count": 13,
      "id": "8dd33359",
      "metadata": {
        "colab": {
          "base_uri": "https://localhost:8080/"
        },
        "id": "8dd33359",
        "outputId": "53cfee3c-cf4a-4d4b-c072-04310ed52aba"
      },
      "outputs": [
        {
          "output_type": "stream",
          "name": "stdout",
          "text": [
            "             date  home_team      away_team  home_score  away_score  \\\n",
            "1311   1930-07-13    Belgium  United States           0           3   \n",
            "1312   1930-07-13     France         Mexico           4           1   \n",
            "1313   1930-07-14     Brazil     Yugoslavia           1           2   \n",
            "1314   1930-07-14       Peru        Romania           1           3   \n",
            "1315   1930-07-15  Argentina         France           1           0   \n",
            "...           ...        ...            ...         ...         ...   \n",
            "44349  2022-12-10    England         France           1           2   \n",
            "44351  2022-12-13  Argentina        Croatia           3           0   \n",
            "44352  2022-12-14     France        Morocco           2           0   \n",
            "44356  2022-12-17    Croatia        Morocco           2           1   \n",
            "44358  2022-12-18  Argentina         France           3           3   \n",
            "\n",
            "           tournament        city  country  neutral  total_score  \n",
            "1311   FIFA World Cup  Montevideo  Uruguay     True            3  \n",
            "1312   FIFA World Cup  Montevideo  Uruguay     True            5  \n",
            "1313   FIFA World Cup  Montevideo  Uruguay     True            3  \n",
            "1314   FIFA World Cup  Montevideo  Uruguay     True            4  \n",
            "1315   FIFA World Cup  Montevideo  Uruguay     True            1  \n",
            "...               ...         ...      ...      ...          ...  \n",
            "44349  FIFA World Cup     Al Khor    Qatar     True            3  \n",
            "44351  FIFA World Cup      Lusail    Qatar     True            3  \n",
            "44352  FIFA World Cup     Al Khor    Qatar     True            2  \n",
            "44356  FIFA World Cup   Al Rayyan    Qatar     True            3  \n",
            "44358  FIFA World Cup      Lusail    Qatar     True            6  \n",
            "\n",
            "[964 rows x 10 columns]\n"
          ]
        },
        {
          "output_type": "stream",
          "name": "stderr",
          "text": [
            "<ipython-input-13-84f45dd9f2de>:6: SettingWithCopyWarning: \n",
            "A value is trying to be set on a copy of a slice from a DataFrame.\n",
            "Try using .loc[row_indexer,col_indexer] = value instead\n",
            "\n",
            "See the caveats in the documentation: https://pandas.pydata.org/pandas-docs/stable/user_guide/indexing.html#returning-a-view-versus-a-copy\n",
            "  fifa_df['total_score'] = fifa_df['home_score'] + fifa_df['away_score']\n"
          ]
        }
      ],
      "source": [
        "import pandas as pd\n",
        "url = \"https://raw.githubusercontent.com/KVCas/Bootcamp/main/results.csv\"\n",
        "df = pd.read_csv(url)\n",
        "fifa_df = df.loc[df['tournament']=='FIFA World Cup']\n",
        "fifa_df['total_score'] = fifa_df['home_score'] + fifa_df['away_score']\n",
        "\n"
      ]
    },
    {
      "cell_type": "markdown",
      "id": "9b7d48d2",
      "metadata": {
        "id": "9b7d48d2"
      },
      "source": [
        "**5.3 Group your data by country, then get the sum of the _'total_score'_ column. From there, you can use `idxmax()` to find the country with the highest _'total_score'_.**"
      ]
    },
    {
      "cell_type": "code",
      "execution_count": 17,
      "id": "682c7a8a",
      "metadata": {
        "colab": {
          "base_uri": "https://localhost:8080/"
        },
        "id": "682c7a8a",
        "outputId": "af01f4ae-b848-4498-b34b-dcab7969b26f"
      },
      "outputs": [
        {
          "output_type": "stream",
          "name": "stdout",
          "text": [
            "Brazil\n"
          ]
        },
        {
          "output_type": "stream",
          "name": "stderr",
          "text": [
            "<ipython-input-17-ca64bd18d462>:6: SettingWithCopyWarning: \n",
            "A value is trying to be set on a copy of a slice from a DataFrame.\n",
            "Try using .loc[row_indexer,col_indexer] = value instead\n",
            "\n",
            "See the caveats in the documentation: https://pandas.pydata.org/pandas-docs/stable/user_guide/indexing.html#returning-a-view-versus-a-copy\n",
            "  fifa_df['total_score'] = fifa_df['home_score'] + fifa_df['away_score']\n"
          ]
        }
      ],
      "source": [
        "import pandas as pd\n",
        "url = \"https://raw.githubusercontent.com/KVCas/Bootcamp/main/results.csv\"\n",
        "df = pd.read_csv(url)\n",
        "fifa_df = df.loc[df['tournament']=='FIFA World Cup']\n",
        "fifa_df['total_score'] = fifa_df['home_score'] + fifa_df['away_score']\n",
        "print(fifa_df.groupby(['country'])['total_score'].sum().idxmax())\n"
      ]
    },
    {
      "cell_type": "code",
      "execution_count": null,
      "id": "628b6683",
      "metadata": {
        "id": "628b6683"
      },
      "outputs": [],
      "source": []
    }
  ],
  "metadata": {
    "kernelspec": {
      "display_name": "Python 3 (ipykernel)",
      "language": "python",
      "name": "python3"
    },
    "language_info": {
      "codemirror_mode": {
        "name": "ipython",
        "version": 3
      },
      "file_extension": ".py",
      "mimetype": "text/x-python",
      "name": "python",
      "nbconvert_exporter": "python",
      "pygments_lexer": "ipython3",
      "version": "3.11.5"
    },
    "colab": {
      "provenance": []
    }
  },
  "nbformat": 4,
  "nbformat_minor": 5
}